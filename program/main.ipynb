{
 "cells": [
  {
   "cell_type": "code",
   "execution_count": 1,
   "id": "d174eb80",
   "metadata": {},
   "outputs": [
    {
     "name": "stdout",
     "output_type": "stream",
     "text": [
      "{'model': 'llama3', 'created_at': '2025-06-30T16:24:06.1909124Z', 'response': \"Here is the SPICE netlist for a low-pass RC filter:\\n\\n```\\n* Low-pass RC filter\\n*.include pspice.lib\\n*\\n\\nV1 1 0 DC 5V  // Input voltage source, 5V DC\\n\\nR1 1 2 1000  // Resistor R=1kΩ\\nC1 2 0 1u  // Capacitor C=1µF\\n\\n.tran 10m 100m  // Simulation time: 10ms to 100ms\\n\\n.print tran v(2) i(R1)  // Print output voltage and current across R1\\n```\\n\\nHere's a brief explanation of the netlist:\\n\\n* The first line, `*.include pspice.lib`, tells SPICE to include the PSpice library.\\n* The next few lines define the components:\\n\\t+ `V1 1 0 DC 5V` is the input voltage source, with an amplitude of 5V DC and a reference node at 0V.\\n\\t+ `R1 1 2 1000` is the resistor R=1kΩ, connected between nodes 1 and 2.\\n\\t+ `C1 2 0 1u` is the capacitor C=1µF, connected between node 2 and the reference node (0V).\\n* The `.tran` statement specifies the simulation time: from 10ms to 100ms. You can adjust this to suit your needs.\\n* The final line, `.print tran v(2) i(R1)`, tells SPICE to print the output voltage at node 2 (`v(2)`) and the current across resistor R1 (`i(R1)`).\\n\\nTo run this netlist in a SPICE simulator, save it as a file with a `.cir` or `.spice` extension (e.g., `rc_filter.cir`), then load it into your preferred simulator (e.g., LTspice, Ngspice).\", 'done': True, 'done_reason': 'stop', 'context': [128006, 882, 128007, 271, 32215, 264, 9440, 5604, 4272, 1638, 369, 264, 3428, 48067, 22322, 4141, 449, 432, 28, 16, 74, 101418, 11, 356, 28, 16, 74148, 37, 11, 323, 1988, 22465, 2592, 650, 16, 13, 5560, 1207, 44398, 12059, 422, 4460, 13, 15392, 449, 6170, 13, 128009, 128006, 78191, 128007, 271, 8586, 374, 279, 9440, 5604, 4272, 1638, 369, 264, 3428, 48067, 22322, 4141, 1473, 14196, 4077, 9, 12310, 48067, 22322, 4141, 198, 20517, 1012, 281, 2203, 560, 15296, 198, 22242, 53, 16, 220, 16, 220, 15, 11162, 220, 20, 53, 220, 443, 5688, 22465, 2592, 11, 220, 20, 53, 11162, 271, 49, 16, 220, 16, 220, 17, 220, 1041, 15, 220, 443, 1838, 5436, 432, 28, 16, 74, 101418, 198, 34, 16, 220, 17, 220, 15, 220, 16, 84, 220, 443, 98203, 1960, 356, 28, 16, 74148, 37, 271, 5543, 276, 220, 605, 76, 220, 1041, 76, 220, 443, 44220, 892, 25, 220, 605, 1026, 311, 220, 1041, 1026, 271, 2263, 24614, 348, 7, 17, 8, 602, 2855, 16, 8, 220, 443, 8377, 2612, 22465, 323, 1510, 4028, 432, 16, 198, 14196, 19884, 8586, 596, 264, 10015, 16540, 315, 279, 4272, 1638, 1473, 9, 578, 1176, 1584, 11, 1595, 20517, 1012, 281, 2203, 560, 15296, 7964, 10975, 9440, 5604, 311, 2997, 279, 393, 6540, 560, 6875, 627, 9, 578, 1828, 2478, 5238, 7124, 279, 6956, 512, 197, 10, 1595, 53, 16, 220, 16, 220, 15, 11162, 220, 20, 53, 63, 374, 279, 1988, 22465, 2592, 11, 449, 459, 45209, 315, 220, 20, 53, 11162, 323, 264, 5905, 2494, 520, 220, 15, 53, 627, 197, 10, 1595, 49, 16, 220, 16, 220, 17, 220, 1041, 15, 63, 374, 279, 78736, 432, 28, 16, 74, 101418, 11, 8599, 1990, 7954, 220, 16, 323, 220, 17, 627, 197, 10, 1595, 34, 16, 220, 17, 220, 15, 220, 16, 84, 63, 374, 279, 85525, 356, 28, 16, 74148, 37, 11, 8599, 1990, 2494, 220, 17, 323, 279, 5905, 2494, 320, 15, 53, 4390, 9, 578, 75190, 44469, 63, 5224, 30202, 279, 19576, 892, 25, 505, 220, 605, 1026, 311, 220, 1041, 1026, 13, 1472, 649, 7652, 420, 311, 7937, 701, 3966, 627, 9, 578, 1620, 1584, 11, 75190, 1374, 24614, 348, 7, 17, 8, 602, 2855, 16, 8, 7964, 10975, 9440, 5604, 311, 1194, 279, 2612, 22465, 520, 2494, 220, 17, 29754, 85, 7, 17, 8, 33981, 323, 279, 1510, 4028, 78736, 432, 16, 29754, 72, 2855, 16, 47286, 3677, 1271, 1629, 420, 4272, 1638, 304, 264, 9440, 5604, 42991, 11, 3665, 433, 439, 264, 1052, 449, 264, 75190, 58132, 63, 477, 75190, 2203, 560, 63, 9070, 320, 68, 1326, 2637, 1595, 1310, 8901, 522, 404, 63, 705, 1243, 2865, 433, 1139, 701, 15236, 42991, 320, 68, 1326, 2637, 35569, 2203, 560, 11, 17030, 2203, 560, 570], 'total_duration': 65777340700, 'load_duration': 6367410800, 'prompt_eval_count': 53, 'prompt_eval_duration': 3627359800, 'eval_count': 414, 'eval_duration': 55779262700}\n"
     ]
    }
   ],
   "source": [
    "import requests\n",
    "\n",
    "response = requests.post(\n",
    "    \"http://localhost:11434/api/generate\",\n",
    "    json={\"model\": \"llama3\", \"prompt\": \"Generate a SPICE netlist for a low-pass RC filter with R=1kΩ, C=1µF, and input voltage source V1. Use subcircuits if needed. Format with comments.\", \"stream\": False}\n",
    ")\n",
    "print(response.json())"
   ]
  }
 ],
 "metadata": {
  "kernelspec": {
   "display_name": "cwq",
   "language": "python",
   "name": "python3"
  },
  "language_info": {
   "codemirror_mode": {
    "name": "ipython",
    "version": 3
   },
   "file_extension": ".py",
   "mimetype": "text/x-python",
   "name": "python",
   "nbconvert_exporter": "python",
   "pygments_lexer": "ipython3",
   "version": "3.12.10"
  }
 },
 "nbformat": 4,
 "nbformat_minor": 5
}
